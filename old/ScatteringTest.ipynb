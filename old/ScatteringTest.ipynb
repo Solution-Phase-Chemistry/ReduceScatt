{
 "cells": [
  {
   "cell_type": "code",
   "execution_count": null,
   "id": "9e1dcdef-7812-4f24-8f1c-72d4baa4a559",
   "metadata": {},
   "outputs": [],
   "source": []
  },
  {
   "cell_type": "markdown",
   "id": "d1265170-cb2d-42ed-8675-12ea5b425a5f",
   "metadata": {},
   "source": [
    "# import"
   ]
  },
  {
   "cell_type": "code",
   "execution_count": 1,
   "id": "81e8d9af-0c02-4442-9fc0-dad9c651e044",
   "metadata": {},
   "outputs": [],
   "source": [
    "import numpy as np\n",
    "from matplotlib import pyplot as plt\n",
    "import matplotlib as mpl\n",
    "import h5py\n",
    "import sys\n",
    "import os\n",
    "import time\n",
    "import scipy\n",
    "import scipy.io as scio\n",
    "\n",
    "from LCLSDataToolsNew.GeneralTools import *\n",
    "from LCLSDataToolsNew.filterTools import *\n",
    "from LCLSDataToolsNew.diffSignalTools import *\n",
    "from LCLSDataToolsNew.plottingTools import *\n",
    "from LCLSDataToolsNew.binningToolsErr import *\n",
    "from LCLSDataToolsNew.anisotropyToolsAll import *\n",
    "from LCLSDataToolsNew.SVDTools import *\n",
    "\n",
    "from sklearn.linear_model import RANSACRegressor as RSC\n",
    "from sklearn.linear_model import LinearRegression as LR\n",
    "\n",
    "from LCLSDataToolsNew.SetUpFns import *\n",
    "from LCLSDataToolsNew.DiffBinFns import *\n",
    "from LCLSDataToolsNew.ReduceFns import *"
   ]
  },
  {
   "cell_type": "markdown",
   "id": "16aa6ef6-2813-4733-851b-7aa9fd651c32",
   "metadata": {},
   "source": [
    "# set up params dictionary"
   ]
  },
  {
   "cell_type": "code",
   "execution_count": 2,
   "id": "59d1b4d0-7fee-4eed-b2c0-89a473fbd446",
   "metadata": {},
   "outputs": [],
   "source": [
    "paramDict= {\n",
    "        'binSetup'  : 'points',\n",
    "        'binSet2'   : 300,\n",
    "        'binMethod' : 'ave', \n",
    "        'qnorm'     : (3,4), \n",
    "        'qrange'    : (.2,4.5),\n",
    "        'show_filters'  : True, #show filter plots\n",
    "        'useAzav_std'  : False, \n",
    "        'azav_percent_filter' : None, # if nonzero, use azav_std as filter\n",
    "        'ipm'    : 4, # select ipm to use\n",
    "        'corr_filter' : True,\n",
    "        'ipm_filter' : (5,None), # if corr_filter, can set limits for ipm intensity\n",
    "        'I0_threshold'  : 1,\n",
    "        'use_TT'   :   True,  #options are True, False, and 'filter'  ('filter is for filter only) \n",
    "        'scan_var' : None,\n",
    "        'x_var'   : None,\n",
    "        't0_corr' : None,  #false or float offset for time zero\n",
    "        'enforce_iso': False,\n",
    "        'NonLin_corr': None, #None, SVD, poly, or SVDbyBin\n",
    "        'AdjSub'    : 50, #number of adjascent off shots to average and subtract, -1 subtracts all\n",
    "        'aniso'  : True,\n",
    "        'shift_n' :0,\n",
    "        'xstat' : True,\n",
    "    \n",
    "    \n",
    "        }\n",
    "\n",
    "## can have defaults in config file and update parts of param dict here"
   ]
  },
  {
   "cell_type": "markdown",
   "id": "42db0f53-da15-4f5d-8ffe-633c176e8a97",
   "metadata": {},
   "source": [
    "# set up variable dictionary"
   ]
  },
  {
   "cell_type": "code",
   "execution_count": 3,
   "id": "a5e5179d-1629-4550-95fc-88c6efcbee34",
   "metadata": {},
   "outputs": [],
   "source": [
    "varDict = {\n",
    "        'ipm4'          : 'ipm4/sum',\n",
    "        'ipm5'          : 'ipm5/sum',\n",
    "        'xray_status'   : 'lightStatus/xray',\n",
    "        'laser_status'  : 'lightStatus/laser',\n",
    "        'ebeam_hv'      : 'ebeam/photon_energy',\n",
    "        'scan_vec'      : 'scan/var0',\n",
    "        'laser_diode'   : '/diodeGon/channels/',\n",
    "    \n",
    "        ## tt variables\n",
    "        'ttCorr'        : 'tt/ttCorr',\n",
    "        'ttAMPL'        : 'tt/AMPL',\n",
    "        'ttFWHM'        : 'tt/FLTPOSFWHM',\n",
    "        'ttFLTPOS'      : 'tt/FLTPOS',\n",
    "        # 'ttFLTPOS_PS'   : 'tt/FLTPOS_PS', ## in picoseconds\n",
    "        # 'ttREFAMPL'     : 'tt/REFAMPL',\n",
    "        'encoder'       : 'enc/lasDelay',\n",
    "        'lxt'           : 'epics/lxt' , \n",
    "        # 'lxt_ttc'       : 'epics/lxt_ttc',\n",
    "        \n",
    "        ## scattering variables\n",
    "        'azav'      : 'epix10k2M/azav_azav',\n",
    "        'qs'        : 'UserDataCfg/epix10k2M/azav__azav_q',\n",
    "        'phis'      :  'UserDataCfg/epix10k2M/azav__azav_phiVec',\n",
    "    \n",
    "        ## scattering detector error\n",
    "        #'azav_sqr'     :  'epix10k2M/azav_azav_square',\n",
    "        # 'pix_per_azav'  :  'UserDataCfg/epix10k2M/azav__azav_norm',\n",
    "    \n",
    "        # ## spectroscopy variables\n",
    "        # 'epix_roi0'        : 'epix_1/ROI_0_area',\n",
    "        # 'epix_roi0_sum'    : 'epix_1/ROI_0_sum',\n",
    "        # 'droplet_x'        : 'epix_1/ragged_droplet_photon_j', #nondispersive axis\n",
    "        # 'droplet_y'        :  'epix_1/ragged_droplet_photon_i', #energy dispersive\n",
    "        # 'epix_roi0_limits' : 'UserDataCfg/epix_1/ROI_0__ROI_0_ROI',\n",
    "\n",
    "        }"
   ]
  },
  {
   "cell_type": "markdown",
   "id": "14576bcb-aa90-4677-be1f-4e7f1d01d47e",
   "metadata": {},
   "source": [
    "# Test"
   ]
  },
  {
   "cell_type": "code",
   "execution_count": 4,
   "id": "da05199a-32c6-49ad-babf-93ee0a35eaca",
   "metadata": {},
   "outputs": [
    {
     "name": "stdout",
     "output_type": "stream",
     "text": [
      "scan variable is  newdelay\n",
      "finished loading h5\n",
      "calculated I0\n",
      "setupFilters - done!\n",
      "making correlation filter\n",
      "correlation equation = 8.842417e-03 x +-6.714783e+01\n",
      "fraction of data kept 3.222860e-01\n",
      "ebeam filter: fraction_kept  0.990009324630345  lower  9881.575374868054  upper  9909.34886497906\n",
      "TTFWHM: fraction_kept  0.9903299203640501  lower  70.21400984573714  upper  129.63596038374004\n",
      "TTPOS: fraction_kept  0.9908970225677982  lower  342.8963766513458  upper  704.4884192739146\n",
      "t=(encoder + tt/ttCorr)*1e-12\n"
     ]
    },
    {
     "name": "stderr",
     "output_type": "stream",
     "text": [
      "/cds/home/s/slraj/code/ScatteringCode/LCLSDataToolsNew/DiffBinFns.py:90: RuntimeWarning: Mean of empty slice\n",
      "  darkMean = np.nanmean(dark,0)\n"
     ]
    },
    {
     "name": "stdout",
     "output_type": "stream",
     "text": [
      "x-ray off subtraction done!\n",
      "applying energy correction\n",
      "nonlinear correction - done!\n",
      "normalize data\n"
     ]
    },
    {
     "name": "stderr",
     "output_type": "stream",
     "text": [
      "/cds/home/s/slraj/code/ScatteringCode/LCLSDataToolsNew/diffSignalTools.py:11: RuntimeWarning: Mean of empty slice\n",
      "  az_av=np.nanmean(dat,1) #single azimuthal averages\n",
      "/cds/home/s/slraj/code/ScatteringCode/LCLSDataToolsNew/diffSignalTools.py:13: RuntimeWarning: Mean of empty slice\n",
      "  norm_factor=np.nanmean(az_av[:,q_ind],1) #mean of points between q limits for each shot\n",
      "/cds/home/s/slraj/code/ScatteringCode/LCLSDataToolsNew/DiffBinFns.py:289: RuntimeWarning: Mean of empty slice\n",
      "  cake=np.nanmean(cspad_azav[early_x,:,:]/normal_factor[early_x,None,None],0) #normalize by norm\n",
      "/cds/home/s/slraj/code/ScatteringCode/LCLSDataToolsNew/DiffBinFns.py:316: RuntimeWarning: Mean of empty slice\n",
      "  totaloff=np.nanmax(np.nanmean(cake,0))\n"
     ]
    },
    {
     "name": "stdout",
     "output_type": "stream",
     "text": [
      "normalize data done!\n",
      "starting difference signal\n",
      "Difference Signal Done!\n",
      "Starting binning\n",
      "bin by points, 300 per bin\n",
      "0 Done\n",
      "1 Done\n",
      "2 Done\n",
      "3 Done\n",
      "4 Done\n",
      "5 Done\n",
      "6 Done\n",
      "7 Done\n",
      "8 Done\n",
      "9 Done\n",
      "10 Done\n",
      "binning - done!\n",
      "shift is 2 degrees\n",
      "17\n",
      "16saved output to  /cds/home/s/slraj/code/ScatteringCode/xcsly3420_Run0120_out.npy\n"
     ]
    },
    {
     "data": {
      "image/png": "[encoded data removed]",
      "text/plain": [
       "<Figure size 432x288 with 4 Axes>"
      ]
     },
     "metadata": {
      "needs_background": "light"
     },
     "output_type": "display_data"
    },
    {
     "data": {
      "image/png": "[encoded data removed]",
      "text/plain": [
       "<Figure size 648x216 with 3 Axes>"
      ]
     },
     "metadata": {
      "needs_background": "light"
     },
     "output_type": "display_data"
    }
   ],
   "source": [
    "smalldata_folder='/reg/d/psdm/xcs/xcsly3420/hdf5/smalldata/smdffb/'\n",
    "exper = 'xcsly3420'\n",
    "runs=[120]\n",
    "ReduceData(smalldata_folder,exper,runs,'/cds/home/s/slraj/code/ScatteringCode/',paramDict,varDict)"
   ]
  },
  {
   "cell_type": "code",
   "execution_count": null,
   "id": "3084fc7b-c267-4f3f-b571-dffa90cc9107",
   "metadata": {},
   "outputs": [],
   "source": []
  },
  {
   "cell_type": "code",
   "execution_count": null,
   "id": "f61ea46c-6f19-4596-b322-4051b231f812",
   "metadata": {},
   "outputs": [],
   "source": []
  }
 ],
 "metadata": {
  "kernelspec": {
   "display_name": "LCLS-II py3",
   "language": "python",
   "name": "ana2-current"
  },
  "language_info": {
   "codemirror_mode": {
    "name": "ipython",
    "version": 3
   },
   "file_extension": ".py",
   "mimetype": "text/x-python",
   "name": "python",
   "nbconvert_exporter": "python",
   "pygments_lexer": "ipython3",
   "version": "3.7.12"
  }
 },
 "nbformat": 4,
 "nbformat_minor": 5
}
