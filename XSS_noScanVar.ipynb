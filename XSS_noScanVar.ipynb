{
 "cells": [
  {
   "cell_type": "code",
   "execution_count": 1,
   "id": "c309caa6-64f5-4e1e-8b83-057028c62ce7",
   "metadata": {},
   "outputs": [],
   "source": [
    "# inputs\n",
    "\n",
    "#run reduce funciton\n",
    "\n",
    "#load data and plot\n",
    "\n",
    "#load data and do IRF or step fit\n",
    "\n",
    "#load data and do gausian fitting (lensh/lensv)\n",
    "\n",
    "#Stack data"
   ]
  },
  {
   "cell_type": "markdown",
   "id": "6578c980-0a89-4aef-acf5-3d1d8a34f95f",
   "metadata": {},
   "source": [
    "# inputs"
   ]
  },
  {
   "cell_type": "code",
   "execution_count": 2,
   "id": "2ff636f6-870e-4caa-abcb-9fb79eb0c51d",
   "metadata": {},
   "outputs": [
    {
     "name": "stdout",
     "output_type": "stream",
     "text": [
      "Import Complete!\n"
     ]
    }
   ],
   "source": [
    "import numpy as np\n",
    "from matplotlib import pyplot as plt\n",
    "import matplotlib as mpl\n",
    "import h5py\n",
    "import sys\n",
    "import os\n",
    "import time\n",
    "import scipy\n",
    "import scipy.io as scio\n",
    "from scipy.optimize import curve_fit\n",
    "\n",
    "\n",
    "from LCLSDataToolsNew.GeneralTools import *\n",
    "from LCLSDataToolsNew.filterTools import *\n",
    "from LCLSDataToolsNew.diffSignalTools import *\n",
    "from LCLSDataToolsNew.binningToolsErr import *\n",
    "from LCLSDataToolsNew.anisotropyToolsAll import *\n",
    "from LCLSDataToolsNew.SVDTools import *\n",
    "from LCLSDataToolsNew.SetUpFns import *\n",
    "from LCLSDataToolsNew.DiffBinFns import *\n",
    "from LCLSDataToolsNew.ReduceFns import *\n",
    "from LCLSDataToolsNew.IRFtools import *\n",
    "from LCLSDataToolsNew.plottingTools import *\n",
    "\n",
    "print('Import Complete!')\n",
    "\n",
    "exper = 'xcsx51920'\n",
    "### ffb ###\n",
    "# smalldata_folder='/cds/data/drpsrcf/xcs/'+exper+'/scratch/hdf5/smalldata/'\n",
    "### call ffb from psana ###\n",
    "smalldata_folder='/reg/data/drpsrcf/xcs/'+exper+'/scratch/hdf5/smalldata/'\n",
    "### psana ###\n",
    "# smalldata_folder='/reg/d/psdm/xcs/'+exper+'/hdf5/smalldata/'\n",
    "\n",
    "\n",
    "outpath='/reg/d/psdm/xcs/'+exper+'/results/ReducedData/'\n",
    "# outpath='/cds/home/s/slraj/code/ScatteringCode/'\n"
   ]
  },
  {
   "cell_type": "code",
   "execution_count": null,
   "id": "8e3497b9-2aa7-42f6-8ec3-3aab1f83023a",
   "metadata": {},
   "outputs": [],
   "source": []
  },
  {
   "cell_type": "markdown",
   "id": "1eb787e6-ce36-4ac2-b106-c5ec1325be75",
   "metadata": {},
   "source": [
    "# no scan var"
   ]
  },
  {
   "cell_type": "code",
   "execution_count": null,
   "id": "2be2c802-181a-407b-a9fe-05fb12f150db",
   "metadata": {},
   "outputs": [],
   "source": []
  },
  {
   "cell_type": "code",
   "execution_count": 3,
   "id": "e9e31dc6-a28e-4d41-a51e-d05d02e3c10c",
   "metadata": {},
   "outputs": [],
   "source": [
    "varDict = {\n",
    "        'ipm4'          : 'ipm4/sum',\n",
    "        'ipm5'          : 'ipm5/sum',\n",
    "        'xray_status'   : 'lightStatus/xray',\n",
    "        'laser_status'  : 'lightStatus/laser',\n",
    "        'ebeam_hv'      : 'ebeam/photon_energy',\n",
    "        # 'scan_vec'      : 'scan/var0',\n",
    "        'laser_diode'   : '/diodeGon/channels/',\n",
    "    \n",
    "        ## tt variables\n",
    "        'ttCorr'        : 'tt/ttCorr',\n",
    "        'ttAMPL'        : 'tt/AMPL',\n",
    "        'ttFWHM'        : 'tt/FLTPOSFWHM',\n",
    "        'ttFLTPOS'      : 'tt/FLTPOS',\n",
    "        # 'ttFLTPOS_PS'   : 'tt/FLTPOS_PS', ## in picoseconds\n",
    "        # 'ttREFAMPL'     : 'tt/REFAMPL',\n",
    "        'encoder'       : 'enc/lasDelay',\n",
    "        'lxt'           : 'epics/lxt' , \n",
    "        # 'lxt_ttc'       : 'epics/lxt_ttc',\n",
    "        \n",
    "        ## scattering variables\n",
    "        'azav'      : 'epix10k2M/azav_azav',\n",
    "        'qs'        : 'UserDataCfg/epix10k2M/azav__azav_q',\n",
    "        'phis'      :  'UserDataCfg/epix10k2M/azav__azav_phiVec',\n",
    "    \n",
    "        ## scattering detector error\n",
    "        #'azav_sqr'     :  'epix10k2M/azav_azav_square',\n",
    "        # 'pix_per_azav'  :  'UserDataCfg/epix10k2M/azav__azav_norm',\n",
    "    \n",
    "        # ## spectroscopy variables\n",
    "        # 'epix_roi0'        : 'epix_1/ROI_0_area',\n",
    "        # 'epix_roi0_sum'    : 'epix_1/ROI_0_sum',\n",
    "        # 'droplet_x'        : 'epix_1/ragged_droplet_photon_j', #nondispersive axis\n",
    "        # 'droplet_y'        :  'epix_1/ragged_droplet_photon_i', #energy dispersive\n",
    "        # 'epix_roi0_limits' : 'UserDataCfg/epix_1/ROI_0__ROI_0_ROI',\n",
    "\n",
    "        }"
   ]
  },
  {
   "cell_type": "code",
   "execution_count": 4,
   "id": "aeab8f68-9e6e-49b0-9035-89ff8a3b5b8a",
   "metadata": {
    "tags": []
   },
   "outputs": [
    {
     "name": "stdout",
     "output_type": "stream",
     "text": [
      "(120,)\n"
     ]
    }
   ],
   "source": [
    "# setbins=np.arange(0.e-12,1e-12,.01e-12)\n",
    "setbins=np.arange(-1e-12,5e-12,.05e-12)\n",
    "print(setbins.shape)\n",
    "\n",
    "paramDict= {\n",
    "        # 'binSetup'  : 'unique',\n",
    "        'binSetup'  : 'points',\n",
    "        'binSet2'   : 300,\n",
    "        # 'binSetup'  : 'fixed',\n",
    "        # 'binSet2'   : setbins,\n",
    "        'binMethod' : 'ave', \n",
    "        'qnorm'     : (3,4), \n",
    "        'qrange'    : (.2,4.5),\n",
    "        'show_filters'  : True, #show filter plots\n",
    "        'useAzav_std'  : False, \n",
    "        'azav_percent_filter' : None, # if nonzero, use azav_std as filter\n",
    "        'ipm'    : 4, # select ipm to use\n",
    "        'corr_filter' : False,\n",
    "        'ipm_filter' : (1,None), # if corr_filter, can set limits for ipm intensity\n",
    "        'Iscat_threshold'  : 1, #lower limit for \n",
    "    \n",
    "        'use_TT'   :  False,  #options are True, False, and 'filter'  ('filter is for filtering only) \n",
    "        'scan_var' : None,\n",
    "        'x_var'   : None,\n",
    "    \n",
    "        't0_corr' : None,  #false or float offset for time zero\n",
    "        'enforce_iso': False, #enforce isotropic off shots?\n",
    "        'energy_corr' : False, # ebeam photon energy correction\n",
    "        'NonLin_corr': None, #None, SVD, poly, or SVDbyBin\n",
    "        \n",
    "        'AdjSub'    : 50, #number of adjascent off shots to average and subtract, -1 subtracts all\n",
    "        'aniso'  : False,\n",
    "        'shift_n' :0,\n",
    "        'xstat' : True,\n",
    "    \n",
    "        'showSVD': False, #do svd\n",
    "        'SVD_n': 4, # number of svd components\n",
    "        'slice_plot':None, #how to slice up plots displayed at end\n",
    "        'smooth':None, #smoothinng before svd?\n",
    "    \n",
    "    \n",
    "    \n",
    "        }\n",
    "\n"
   ]
  },
  {
   "cell_type": "code",
   "execution_count": 16,
   "id": "43dffedb-9719-4005-8a50-6c87440f0d84",
   "metadata": {},
   "outputs": [
    {
     "name": "stdout",
     "output_type": "stream",
     "text": [
      "loading  /reg/data/drpsrcf/xcs/xcsx51920/scratch/hdf5/smalldata/xcsx51920_Run0523.h5\n",
      "scan variable is  newdelay\n",
      "finished loading h5\n",
      "calculated Iscat\n",
      "setupFilters - done!\n",
      "3.675811529159546  seconds\n"
     ]
    },
    {
     "name": "stderr",
     "output_type": "stream",
     "text": [
      "/cds/home/s/slraj/code/ScatteringCode/LCLSDataToolsNew/DiffBinFns.py:90: RuntimeWarning: Mean of empty slice\n",
      "  darkMean = np.nanmean(dark,0)\n"
     ]
    },
    {
     "name": "stdout",
     "output_type": "stream",
     "text": [
      "x-ray off subtraction done!\n",
      "normalize data\n"
     ]
    },
    {
     "name": "stderr",
     "output_type": "stream",
     "text": [
      "/cds/home/s/slraj/code/ScatteringCode/LCLSDataToolsNew/DiffBinFns.py:289: RuntimeWarning: Mean of empty slice\n",
      "  cake=np.nanmean(cspad_azav[early_x,:,:]/normal_factor[early_x,None,None],0) #normalize by norm\n"
     ]
    },
    {
     "name": "stdout",
     "output_type": "stream",
     "text": [
      "normalize data done!\n",
      "starting difference signal\n",
      "Difference Signal Done!\n",
      "13.271101951599121  seconds\n",
      "Averaging all shots difference signals\n"
     ]
    },
    {
     "name": "stderr",
     "output_type": "stream",
     "text": [
      "/cds/home/s/slraj/code/ScatteringCode/LCLSDataToolsNew/DiffBinFns.py:357: RuntimeWarning: Mean of empty slice\n",
      "  diff_bin=np.nanmean(onData,axis=0)\n",
      "/cds/sw/ds/ana/conda2/inst/envs/ps-4.4.10/lib/python3.7/site-packages/numpy/lib/nanfunctions.py:1671: RuntimeWarning: Degrees of freedom <= 0 for slice.\n",
      "  keepdims=keepdims)\n",
      "/cds/home/s/slraj/code/ScatteringCode/LCLSDataToolsNew/ReduceFns.py:268: RuntimeWarning: invalid value encountered in long_scalars\n",
      "  logscan=(np.abs(np.nanmax(ts)/np.nanmin(ts)))>1e3 # is the range we are scanning a lot of orders of magnitude? If so, plot nicer\n"
     ]
    },
    {
     "name": "stdout",
     "output_type": "stream",
     "text": [
      "Average done!\n",
      "15.46109414100647  seconds\n",
      "saved output to  /cds/home/s/slraj/code/ScatteringCode/npy/xcsx51920_Run0523_out.npy\n",
      "plotting azavs\n",
      "logscan False\n",
      "(1, 883)\n",
      "(883,)\n",
      "done\n",
      "16.223702669143677  seconds\n"
     ]
    },
    {
     "data": {
      "image/png": "[encoded data removed]",
      "text/plain": [
       "<Figure size 432x288 with 2 Axes>"
      ]
     },
     "metadata": {
      "needs_background": "light"
     },
     "output_type": "display_data"
    },
    {
     "data": {
      "image/png": "[encoded data removed]",
      "text/plain": [
       "<Figure size 648x432 with 5 Axes>"
      ]
     },
     "metadata": {
      "needs_background": "light"
     },
     "output_type": "display_data"
    }
   ],
   "source": [
    "inDir=smalldata_folder\n",
    "outDir='/cds/home/s/slraj/code/ScatteringCode/'\n",
    "\n",
    "runs=[523]\n",
    "\n",
    "\n",
    "\n",
    "for run in runs:\n",
    "    fname=inDir+exper+'_Run%04i.h5'%run\n",
    "    print('loading ', fname)\n",
    "    outDict={}\n",
    "    then=time.time()\n",
    "    LoadH5(fname,varDict,paramDict, outDict)\n",
    "    setupFilters(paramDict,outDict)\n",
    "    IscatFilters(paramDict,outDict)\n",
    "    # eBeamFilter(paramDict,outDict)\n",
    "    if paramDict['use_TT']==True or paramDict['use_TT']=='filter':\n",
    "        TTfilter(paramDict,outDict)\n",
    "    now = time.time() #Time after it finished\n",
    "    print(now-then, \" seconds\")\n",
    "    saveReduction(outDir,outDict)\n",
    "    \n",
    "    outDict['xs']=np.arange(outDict['h5Dict']['azav'].shape[0])\n",
    "    # MakeScanAx(paramDict,outDict,tt_corrNew=None)\n",
    "    DarkSubtract(paramDict,outDict)\n",
    "    if paramDict['energy_corr']:\n",
    "        EnergyCorr(paramDict,outDict)\n",
    "    if paramDict['NonLin_corr'] is not None:\n",
    "        DetectorNonlinCorr(paramDict,outDict)\n",
    "    NormalFactor(paramDict,outDict)\n",
    "    doDifference(paramDict,outDict)\n",
    "    now = time.time() #Time after it finished\n",
    "    print(now-then, \" seconds\")\n",
    "\n",
    "    AveAllShots(paramDict, outDict)\n",
    "    now = time.time() #Time after it finished\n",
    "    print(now-then, \" seconds\")\n",
    "\n",
    "    if paramDict['aniso']:\n",
    "        doAnisotropy(paramDict,outDict)\n",
    "    saveDictionary(outDir+'npy/',paramDict,outDict)\n",
    "    overviewPlot(outDir+'figures/',paramDict,outDict)\n",
    "    now = time.time() #Time after it finished\n",
    "    print(now-then, \" seconds\")"
   ]
  },
  {
   "cell_type": "markdown",
   "id": "77bf44e4-c9a4-448f-ba70-4266425028f5",
   "metadata": {},
   "source": [
    "# load and plot"
   ]
  },
  {
   "cell_type": "code",
   "execution_count": 15,
   "id": "ce247402-10b4-49a5-8589-3384937d152f",
   "metadata": {},
   "outputs": [],
   "source": [
    "fpath='/reg/d/psdm/xcs/xcsx51920/results/ReducedData/npy/'\n",
    "nnames=['523']\n",
    "allout={}\n",
    "S0=[]\n",
    "S2=[]\n",
    "for nn in nnames:\n",
    "    allout[nn]=np.load(fpath+exper+'_Run%04i_out.npy'%int(nn),allow_pickle=True).item()\n",
    "    S0.append(allout[nn]['S0'])\n",
    "    S2.append(allout[nn]['S2'])    \n",
    "S0=np.array(S0).squeeze()\n",
    "S2=np.array(S2).squeeze()\n",
    "Power=np.array([33.25,20.65,9.80,3.85])\n",
    "qs=allout[nn]['qs']\n",
    "\n",
    "outDict={'allout':allout, 'runs':nnames,'qs':qs,'power':Power,'S0':S0,'S2':S2}\n",
    "np.save('/reg/d/psdm/xcs/xcsx51920/results/ReducedData/stack_npy/combo_332_to_225_pwr.npy',outDict)"
   ]
  },
  {
   "cell_type": "code",
   "execution_count": 8,
   "id": "38d072fb-7aa4-4d4f-90b4-6119d61bed33",
   "metadata": {},
   "outputs": [
    {
     "ename": "TypeError",
     "evalue": "Dimensions of C (883, 34) are incompatible with X (4) and/or Y (883); see help(pcolormesh)",
     "output_type": "error",
     "traceback": [
      "\u001b[0;31m---------------------------------------------------------------------------\u001b[0m",
      "\u001b[0;31mTypeError\u001b[0m                                 Traceback (most recent call last)",
      "\u001b[0;32m~/code/ScatteringCode/LCLSDataToolsNew/plottingTools.py\u001b[0m in \u001b[0;36mplot_2d\u001b[0;34m(t, x, ys, fig, sub, cb, logscan, ccmap)\u001b[0m\n\u001b[1;32m    136\u001b[0m     \u001b[0;32mtry\u001b[0m\u001b[0;34m:\u001b[0m\u001b[0;34m\u001b[0m\u001b[0;34m\u001b[0m\u001b[0m\n\u001b[0;32m--> 137\u001b[0;31m         \u001b[0mplt\u001b[0m\u001b[0;34m.\u001b[0m\u001b[0mpcolormesh\u001b[0m\u001b[0;34m(\u001b[0m\u001b[0mts\u001b[0m\u001b[0;34m,\u001b[0m\u001b[0mxs\u001b[0m\u001b[0;34m,\u001b[0m\u001b[0mys\u001b[0m\u001b[0;34m,\u001b[0m\u001b[0mcmap\u001b[0m\u001b[0;34m=\u001b[0m\u001b[0mccmap\u001b[0m\u001b[0;34m,\u001b[0m\u001b[0mshading\u001b[0m\u001b[0;34m=\u001b[0m\u001b[0;34m'auto'\u001b[0m\u001b[0;34m)\u001b[0m\u001b[0;34m\u001b[0m\u001b[0;34m\u001b[0m\u001b[0m\n\u001b[0m\u001b[1;32m    138\u001b[0m     \u001b[0;32mexcept\u001b[0m \u001b[0mTypeError\u001b[0m\u001b[0;34m:\u001b[0m\u001b[0;34m\u001b[0m\u001b[0;34m\u001b[0m\u001b[0m\n",
      "\u001b[0;32m/cds/sw/ds/ana/conda2/inst/envs/ps-4.4.10/lib/python3.7/site-packages/matplotlib/pyplot.py\u001b[0m in \u001b[0;36mpcolormesh\u001b[0;34m(alpha, norm, cmap, vmin, vmax, shading, antialiased, data, *args, **kwargs)\u001b[0m\n\u001b[1;32m   2732\u001b[0m         \u001b[0mvmax\u001b[0m\u001b[0;34m=\u001b[0m\u001b[0mvmax\u001b[0m\u001b[0;34m,\u001b[0m \u001b[0mshading\u001b[0m\u001b[0;34m=\u001b[0m\u001b[0mshading\u001b[0m\u001b[0;34m,\u001b[0m \u001b[0mantialiased\u001b[0m\u001b[0;34m=\u001b[0m\u001b[0mantialiased\u001b[0m\u001b[0;34m,\u001b[0m\u001b[0;34m\u001b[0m\u001b[0;34m\u001b[0m\u001b[0m\n\u001b[0;32m-> 2733\u001b[0;31m         **({\"data\": data} if data is not None else {}), **kwargs)\n\u001b[0m\u001b[1;32m   2734\u001b[0m     \u001b[0msci\u001b[0m\u001b[0;34m(\u001b[0m\u001b[0m__ret\u001b[0m\u001b[0;34m)\u001b[0m\u001b[0;34m\u001b[0m\u001b[0;34m\u001b[0m\u001b[0m\n",
      "\u001b[0;32m/cds/sw/ds/ana/conda2/inst/envs/ps-4.4.10/lib/python3.7/site-packages/matplotlib/__init__.py\u001b[0m in \u001b[0;36minner\u001b[0;34m(ax, data, *args, **kwargs)\u001b[0m\n\u001b[1;32m   1411\u001b[0m         \u001b[0;32mif\u001b[0m \u001b[0mdata\u001b[0m \u001b[0;32mis\u001b[0m \u001b[0;32mNone\u001b[0m\u001b[0;34m:\u001b[0m\u001b[0;34m\u001b[0m\u001b[0;34m\u001b[0m\u001b[0m\n\u001b[0;32m-> 1412\u001b[0;31m             \u001b[0;32mreturn\u001b[0m \u001b[0mfunc\u001b[0m\u001b[0;34m(\u001b[0m\u001b[0max\u001b[0m\u001b[0;34m,\u001b[0m \u001b[0;34m*\u001b[0m\u001b[0mmap\u001b[0m\u001b[0;34m(\u001b[0m\u001b[0msanitize_sequence\u001b[0m\u001b[0;34m,\u001b[0m \u001b[0margs\u001b[0m\u001b[0;34m)\u001b[0m\u001b[0;34m,\u001b[0m \u001b[0;34m**\u001b[0m\u001b[0mkwargs\u001b[0m\u001b[0;34m)\u001b[0m\u001b[0;34m\u001b[0m\u001b[0;34m\u001b[0m\u001b[0m\n\u001b[0m\u001b[1;32m   1413\u001b[0m \u001b[0;34m\u001b[0m\u001b[0m\n",
      "\u001b[0;32m/cds/sw/ds/ana/conda2/inst/envs/ps-4.4.10/lib/python3.7/site-packages/matplotlib/axes/_axes.py\u001b[0m in \u001b[0;36mpcolormesh\u001b[0;34m(self, alpha, norm, cmap, vmin, vmax, shading, antialiased, *args, **kwargs)\u001b[0m\n\u001b[1;32m   6058\u001b[0m         X, Y, C, shading = self._pcolorargs('pcolormesh', *args,\n\u001b[0;32m-> 6059\u001b[0;31m                                             shading=shading, kwargs=kwargs)\n\u001b[0m\u001b[1;32m   6060\u001b[0m         \u001b[0mcoords\u001b[0m \u001b[0;34m=\u001b[0m \u001b[0mnp\u001b[0m\u001b[0;34m.\u001b[0m\u001b[0mstack\u001b[0m\u001b[0;34m(\u001b[0m\u001b[0;34m[\u001b[0m\u001b[0mX\u001b[0m\u001b[0;34m,\u001b[0m \u001b[0mY\u001b[0m\u001b[0;34m]\u001b[0m\u001b[0;34m,\u001b[0m \u001b[0maxis\u001b[0m\u001b[0;34m=\u001b[0m\u001b[0;34m-\u001b[0m\u001b[0;36m1\u001b[0m\u001b[0;34m)\u001b[0m\u001b[0;34m\u001b[0m\u001b[0;34m\u001b[0m\u001b[0m\n",
      "\u001b[0;32m/cds/sw/ds/ana/conda2/inst/envs/ps-4.4.10/lib/python3.7/site-packages/matplotlib/axes/_axes.py\u001b[0m in \u001b[0;36m_pcolorargs\u001b[0;34m(self, funcname, shading, *args, **kwargs)\u001b[0m\n\u001b[1;32m   5569\u001b[0m                                 ' X (%d) and/or Y (%d); see help(%s)' % (\n\u001b[0;32m-> 5570\u001b[0;31m                                     C.shape, Nx, Ny, funcname))\n\u001b[0m\u001b[1;32m   5571\u001b[0m         \u001b[0;32melse\u001b[0m\u001b[0;34m:\u001b[0m    \u001b[0;31m# ['nearest', 'gouraud']:\u001b[0m\u001b[0;34m\u001b[0m\u001b[0;34m\u001b[0m\u001b[0m\n",
      "\u001b[0;31mTypeError\u001b[0m: Dimensions of C (34, 883) are incompatible with X (4) and/or Y (883); see help(pcolormesh)",
      "\nDuring handling of the above exception, another exception occurred:\n",
      "\u001b[0;31mTypeError\u001b[0m                                 Traceback (most recent call last)",
      "\u001b[0;32m/tmp/ipykernel_20132/2628418728.py\u001b[0m in \u001b[0;36m<module>\u001b[0;34m\u001b[0m\n\u001b[0;32m----> 1\u001b[0;31m \u001b[0mplot_2d\u001b[0m\u001b[0;34m(\u001b[0m\u001b[0mPower\u001b[0m\u001b[0;34m,\u001b[0m\u001b[0mqs\u001b[0m\u001b[0;34m,\u001b[0m\u001b[0mS0\u001b[0m\u001b[0;34m)\u001b[0m\u001b[0;34m\u001b[0m\u001b[0;34m\u001b[0m\u001b[0m\n\u001b[0m\u001b[1;32m      2\u001b[0m \u001b[0mplt\u001b[0m\u001b[0;34m.\u001b[0m\u001b[0msuptitle\u001b[0m\u001b[0;34m(\u001b[0m\u001b[0;34m'S0'\u001b[0m\u001b[0;34m)\u001b[0m\u001b[0;34m\u001b[0m\u001b[0;34m\u001b[0m\u001b[0m\n\u001b[1;32m      3\u001b[0m \u001b[0mplt\u001b[0m\u001b[0;34m.\u001b[0m\u001b[0mxlabel\u001b[0m\u001b[0;34m(\u001b[0m\u001b[0;34m'laser power (uJ)'\u001b[0m\u001b[0;34m)\u001b[0m\u001b[0;34m\u001b[0m\u001b[0;34m\u001b[0m\u001b[0m\n\u001b[1;32m      4\u001b[0m \u001b[0mplot_2d\u001b[0m\u001b[0;34m(\u001b[0m\u001b[0mPower\u001b[0m\u001b[0;34m,\u001b[0m\u001b[0mqs\u001b[0m\u001b[0;34m,\u001b[0m\u001b[0mS2\u001b[0m\u001b[0;34m)\u001b[0m\u001b[0;34m\u001b[0m\u001b[0;34m\u001b[0m\u001b[0m\n\u001b[1;32m      5\u001b[0m \u001b[0mplt\u001b[0m\u001b[0;34m.\u001b[0m\u001b[0msuptitle\u001b[0m\u001b[0;34m(\u001b[0m\u001b[0;34m'S2'\u001b[0m\u001b[0;34m)\u001b[0m\u001b[0;34m\u001b[0m\u001b[0;34m\u001b[0m\u001b[0m\n",
      "\u001b[0;32m~/code/ScatteringCode/LCLSDataToolsNew/plottingTools.py\u001b[0m in \u001b[0;36mplot_2d\u001b[0;34m(t, x, ys, fig, sub, cb, logscan, ccmap)\u001b[0m\n\u001b[1;32m    137\u001b[0m         \u001b[0mplt\u001b[0m\u001b[0;34m.\u001b[0m\u001b[0mpcolormesh\u001b[0m\u001b[0;34m(\u001b[0m\u001b[0mts\u001b[0m\u001b[0;34m,\u001b[0m\u001b[0mxs\u001b[0m\u001b[0;34m,\u001b[0m\u001b[0mys\u001b[0m\u001b[0;34m,\u001b[0m\u001b[0mcmap\u001b[0m\u001b[0;34m=\u001b[0m\u001b[0mccmap\u001b[0m\u001b[0;34m,\u001b[0m\u001b[0mshading\u001b[0m\u001b[0;34m=\u001b[0m\u001b[0;34m'auto'\u001b[0m\u001b[0;34m)\u001b[0m\u001b[0;34m\u001b[0m\u001b[0;34m\u001b[0m\u001b[0m\n\u001b[1;32m    138\u001b[0m     \u001b[0;32mexcept\u001b[0m \u001b[0mTypeError\u001b[0m\u001b[0;34m:\u001b[0m\u001b[0;34m\u001b[0m\u001b[0;34m\u001b[0m\u001b[0m\n\u001b[0;32m--> 139\u001b[0;31m         \u001b[0mplt\u001b[0m\u001b[0;34m.\u001b[0m\u001b[0mpcolormesh\u001b[0m\u001b[0;34m(\u001b[0m\u001b[0mts\u001b[0m\u001b[0;34m,\u001b[0m\u001b[0mxs\u001b[0m\u001b[0;34m,\u001b[0m\u001b[0mys\u001b[0m\u001b[0;34m.\u001b[0m\u001b[0mT\u001b[0m\u001b[0;34m,\u001b[0m\u001b[0mcmap\u001b[0m\u001b[0;34m=\u001b[0m\u001b[0mccmap\u001b[0m\u001b[0;34m,\u001b[0m\u001b[0mshading\u001b[0m\u001b[0;34m=\u001b[0m\u001b[0;34m'auto'\u001b[0m\u001b[0;34m)\u001b[0m\u001b[0;34m\u001b[0m\u001b[0;34m\u001b[0m\u001b[0m\n\u001b[0m\u001b[1;32m    140\u001b[0m     \u001b[0;31m#median above and below 0 * some number\u001b[0m\u001b[0;34m\u001b[0m\u001b[0;34m\u001b[0m\u001b[0;34m\u001b[0m\u001b[0m\n\u001b[1;32m    141\u001b[0m \u001b[0;34m\u001b[0m\u001b[0m\n",
      "\u001b[0;32m/cds/sw/ds/ana/conda2/inst/envs/ps-4.4.10/lib/python3.7/site-packages/matplotlib/pyplot.py\u001b[0m in \u001b[0;36mpcolormesh\u001b[0;34m(alpha, norm, cmap, vmin, vmax, shading, antialiased, data, *args, **kwargs)\u001b[0m\n\u001b[1;32m   2731\u001b[0m         \u001b[0;34m*\u001b[0m\u001b[0margs\u001b[0m\u001b[0;34m,\u001b[0m \u001b[0malpha\u001b[0m\u001b[0;34m=\u001b[0m\u001b[0malpha\u001b[0m\u001b[0;34m,\u001b[0m \u001b[0mnorm\u001b[0m\u001b[0;34m=\u001b[0m\u001b[0mnorm\u001b[0m\u001b[0;34m,\u001b[0m \u001b[0mcmap\u001b[0m\u001b[0;34m=\u001b[0m\u001b[0mcmap\u001b[0m\u001b[0;34m,\u001b[0m \u001b[0mvmin\u001b[0m\u001b[0;34m=\u001b[0m\u001b[0mvmin\u001b[0m\u001b[0;34m,\u001b[0m\u001b[0;34m\u001b[0m\u001b[0;34m\u001b[0m\u001b[0m\n\u001b[1;32m   2732\u001b[0m         \u001b[0mvmax\u001b[0m\u001b[0;34m=\u001b[0m\u001b[0mvmax\u001b[0m\u001b[0;34m,\u001b[0m \u001b[0mshading\u001b[0m\u001b[0;34m=\u001b[0m\u001b[0mshading\u001b[0m\u001b[0;34m,\u001b[0m \u001b[0mantialiased\u001b[0m\u001b[0;34m=\u001b[0m\u001b[0mantialiased\u001b[0m\u001b[0;34m,\u001b[0m\u001b[0;34m\u001b[0m\u001b[0;34m\u001b[0m\u001b[0m\n\u001b[0;32m-> 2733\u001b[0;31m         **({\"data\": data} if data is not None else {}), **kwargs)\n\u001b[0m\u001b[1;32m   2734\u001b[0m     \u001b[0msci\u001b[0m\u001b[0;34m(\u001b[0m\u001b[0m__ret\u001b[0m\u001b[0;34m)\u001b[0m\u001b[0;34m\u001b[0m\u001b[0;34m\u001b[0m\u001b[0m\n\u001b[1;32m   2735\u001b[0m     \u001b[0;32mreturn\u001b[0m \u001b[0m__ret\u001b[0m\u001b[0;34m\u001b[0m\u001b[0;34m\u001b[0m\u001b[0m\n",
      "\u001b[0;32m/cds/sw/ds/ana/conda2/inst/envs/ps-4.4.10/lib/python3.7/site-packages/matplotlib/__init__.py\u001b[0m in \u001b[0;36minner\u001b[0;34m(ax, data, *args, **kwargs)\u001b[0m\n\u001b[1;32m   1410\u001b[0m     \u001b[0;32mdef\u001b[0m \u001b[0minner\u001b[0m\u001b[0;34m(\u001b[0m\u001b[0max\u001b[0m\u001b[0;34m,\u001b[0m \u001b[0;34m*\u001b[0m\u001b[0margs\u001b[0m\u001b[0;34m,\u001b[0m \u001b[0mdata\u001b[0m\u001b[0;34m=\u001b[0m\u001b[0;32mNone\u001b[0m\u001b[0;34m,\u001b[0m \u001b[0;34m**\u001b[0m\u001b[0mkwargs\u001b[0m\u001b[0;34m)\u001b[0m\u001b[0;34m:\u001b[0m\u001b[0;34m\u001b[0m\u001b[0;34m\u001b[0m\u001b[0m\n\u001b[1;32m   1411\u001b[0m         \u001b[0;32mif\u001b[0m \u001b[0mdata\u001b[0m \u001b[0;32mis\u001b[0m \u001b[0;32mNone\u001b[0m\u001b[0;34m:\u001b[0m\u001b[0;34m\u001b[0m\u001b[0;34m\u001b[0m\u001b[0m\n\u001b[0;32m-> 1412\u001b[0;31m             \u001b[0;32mreturn\u001b[0m \u001b[0mfunc\u001b[0m\u001b[0;34m(\u001b[0m\u001b[0max\u001b[0m\u001b[0;34m,\u001b[0m \u001b[0;34m*\u001b[0m\u001b[0mmap\u001b[0m\u001b[0;34m(\u001b[0m\u001b[0msanitize_sequence\u001b[0m\u001b[0;34m,\u001b[0m \u001b[0margs\u001b[0m\u001b[0;34m)\u001b[0m\u001b[0;34m,\u001b[0m \u001b[0;34m**\u001b[0m\u001b[0mkwargs\u001b[0m\u001b[0;34m)\u001b[0m\u001b[0;34m\u001b[0m\u001b[0;34m\u001b[0m\u001b[0m\n\u001b[0m\u001b[1;32m   1413\u001b[0m \u001b[0;34m\u001b[0m\u001b[0m\n\u001b[1;32m   1414\u001b[0m         \u001b[0mbound\u001b[0m \u001b[0;34m=\u001b[0m \u001b[0mnew_sig\u001b[0m\u001b[0;34m.\u001b[0m\u001b[0mbind\u001b[0m\u001b[0;34m(\u001b[0m\u001b[0max\u001b[0m\u001b[0;34m,\u001b[0m \u001b[0;34m*\u001b[0m\u001b[0margs\u001b[0m\u001b[0;34m,\u001b[0m \u001b[0;34m**\u001b[0m\u001b[0mkwargs\u001b[0m\u001b[0;34m)\u001b[0m\u001b[0;34m\u001b[0m\u001b[0;34m\u001b[0m\u001b[0m\n",
      "\u001b[0;32m/cds/sw/ds/ana/conda2/inst/envs/ps-4.4.10/lib/python3.7/site-packages/matplotlib/axes/_axes.py\u001b[0m in \u001b[0;36mpcolormesh\u001b[0;34m(self, alpha, norm, cmap, vmin, vmax, shading, antialiased, *args, **kwargs)\u001b[0m\n\u001b[1;32m   6057\u001b[0m \u001b[0;34m\u001b[0m\u001b[0m\n\u001b[1;32m   6058\u001b[0m         X, Y, C, shading = self._pcolorargs('pcolormesh', *args,\n\u001b[0;32m-> 6059\u001b[0;31m                                             shading=shading, kwargs=kwargs)\n\u001b[0m\u001b[1;32m   6060\u001b[0m         \u001b[0mcoords\u001b[0m \u001b[0;34m=\u001b[0m \u001b[0mnp\u001b[0m\u001b[0;34m.\u001b[0m\u001b[0mstack\u001b[0m\u001b[0;34m(\u001b[0m\u001b[0;34m[\u001b[0m\u001b[0mX\u001b[0m\u001b[0;34m,\u001b[0m \u001b[0mY\u001b[0m\u001b[0;34m]\u001b[0m\u001b[0;34m,\u001b[0m \u001b[0maxis\u001b[0m\u001b[0;34m=\u001b[0m\u001b[0;34m-\u001b[0m\u001b[0;36m1\u001b[0m\u001b[0;34m)\u001b[0m\u001b[0;34m\u001b[0m\u001b[0;34m\u001b[0m\u001b[0m\n\u001b[1;32m   6061\u001b[0m         \u001b[0;31m# convert to one dimensional array\u001b[0m\u001b[0;34m\u001b[0m\u001b[0;34m\u001b[0m\u001b[0;34m\u001b[0m\u001b[0m\n",
      "\u001b[0;32m/cds/sw/ds/ana/conda2/inst/envs/ps-4.4.10/lib/python3.7/site-packages/matplotlib/axes/_axes.py\u001b[0m in \u001b[0;36m_pcolorargs\u001b[0;34m(self, funcname, shading, *args, **kwargs)\u001b[0m\n\u001b[1;32m   5568\u001b[0m                 raise TypeError('Dimensions of C %s are incompatible with'\n\u001b[1;32m   5569\u001b[0m                                 ' X (%d) and/or Y (%d); see help(%s)' % (\n\u001b[0;32m-> 5570\u001b[0;31m                                     C.shape, Nx, Ny, funcname))\n\u001b[0m\u001b[1;32m   5571\u001b[0m         \u001b[0;32melse\u001b[0m\u001b[0;34m:\u001b[0m    \u001b[0;31m# ['nearest', 'gouraud']:\u001b[0m\u001b[0;34m\u001b[0m\u001b[0;34m\u001b[0m\u001b[0m\n\u001b[1;32m   5572\u001b[0m             \u001b[0;32mif\u001b[0m \u001b[0;34m(\u001b[0m\u001b[0mNx\u001b[0m\u001b[0;34m,\u001b[0m \u001b[0mNy\u001b[0m\u001b[0;34m)\u001b[0m \u001b[0;34m!=\u001b[0m \u001b[0;34m(\u001b[0m\u001b[0mncols\u001b[0m\u001b[0;34m,\u001b[0m \u001b[0mnrows\u001b[0m\u001b[0;34m)\u001b[0m\u001b[0;34m:\u001b[0m\u001b[0;34m\u001b[0m\u001b[0;34m\u001b[0m\u001b[0m\n",
      "\u001b[0;31mTypeError\u001b[0m: Dimensions of C (883, 34) are incompatible with X (4) and/or Y (883); see help(pcolormesh)"
     ]
    },
    {
     "data": {
      "image/png": "[encoded data removed]",
      "text/plain": [
       "<Figure size 432x288 with 1 Axes>"
      ]
     },
     "metadata": {
      "needs_background": "light"
     },
     "output_type": "display_data"
    }
   ],
   "source": [
    "plot_2d(Power,qs,S0)\n",
    "plt.suptitle('S0')\n",
    "plt.xlabel('laser power (uJ)')\n",
    "plot_2d(Power,qs,S2)\n",
    "plt.suptitle('S2')\n",
    "plt.xlabel('laser power (uJ)')"
   ]
  },
  {
   "cell_type": "code",
   "execution_count": null,
   "id": "d559fc6b-632e-4f2c-a531-02d906c9bf3f",
   "metadata": {},
   "outputs": [],
   "source": []
  }
 ],
 "metadata": {
  "kernelspec": {
   "display_name": "LCLS-II py3",
   "language": "python",
   "name": "ana2-current"
  },
  "language_info": {
   "codemirror_mode": {
    "name": "ipython",
    "version": 3
   },
   "file_extension": ".py",
   "mimetype": "text/x-python",
   "name": "python",
   "nbconvert_exporter": "python",
   "pygments_lexer": "ipython3",
   "version": "3.7.12"
  }
 },
 "nbformat": 4,
 "nbformat_minor": 5
}
